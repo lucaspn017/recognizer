{
  "nbformat": 4,
  "nbformat_minor": 0,
  "metadata": {
    "colab": {
      "provenance": [],
      "mount_file_id": "120qgXUnB_PCgGS_nPGaFEvdmsD2KF_QY",
      "authorship_tag": "ABX9TyOxGC/qZNBC8l3+NErKVYrn",
      "include_colab_link": true
    },
    "kernelspec": {
      "name": "python3",
      "display_name": "Python 3"
    },
    "language_info": {
      "name": "python"
    }
  },
  "cells": [
    {
      "cell_type": "markdown",
      "metadata": {
        "id": "view-in-github",
        "colab_type": "text"
      },
      "source": [
        "<a href=\"https://colab.research.google.com/github/lucaspn017/recognizer/blob/main/Neural_Network_Recognizer.ipynb\" target=\"_parent\"><img src=\"https://colab.research.google.com/assets/colab-badge.svg\" alt=\"Open In Colab\"/></a>"
      ]
    },
    {
      "cell_type": "markdown",
      "source": [
        "<h1> Creating a neural network randwritten digit recognition </h1>"
      ],
      "metadata": {
        "id": "RyJnVvc1JMFN"
      }
    },
    {
      "cell_type": "code",
      "execution_count": 1,
      "metadata": {
        "id": "MHvFb9jNYQD3"
      },
      "outputs": [],
      "source": [
        "import cv2\n",
        "import os\n",
        "import numpy as np\n",
        "import matplotlib.pyplot as plt\n",
        "import tensorflow.keras as tfks\n"
      ]
    },
    {
      "cell_type": "markdown",
      "source": [
        "<h3> Keras has a dataset called \"mnist\" that has data used to train digital classification neural networks. </h3>\n",
        "\n",
        "I'm going to use it to train my neural network."
      ],
      "metadata": {
        "id": "1OPuhhH696Lr"
      }
    },
    {
      "cell_type": "code",
      "source": [
        "mnist = tfks.datasets.mnist\n",
        "(x_train, y_train), (x_test, y_test) = mnist.load_data()\n",
        "\n",
        "x_train = tfks.utils.normalize(x_train, axis=1)\n",
        "x_test = tfks.utils.normalize(x_test, axis=1)"
      ],
      "metadata": {
        "id": "Vd5ZiCcm_4Ce"
      },
      "execution_count": null,
      "outputs": []
    },
    {
      "cell_type": "markdown",
      "source": [
        "<h3> Use the Sequential function to create a Neural Network based on layers, which are stacked one after the other.</h3>\n",
        "\n",
        "Creating the neural network\n",
        "\n"
      ],
      "metadata": {
        "id": "KuAr8KKpDbJ-"
      }
    },
    {
      "cell_type": "code",
      "source": [
        "model = tfks.models.Sequential()\n",
        "\n",
        "# mnist have 28x28 dimension images.\n",
        "\n",
        "# Flatten transforms this dimension into a\n",
        "# scalar result of the product between them,\n",
        "# optimizing the process.\n",
        "\n",
        "model.add(tfks.layers.Flatten(input_shape=(28,28)))\n",
        "model.add(tfks.layers.Dense(128, activation='relu'))\n",
        "model.add(tfks.layers.Dense(128, activation='relu'))\n",
        "model.add(tfks.layers.Dense(10, activation='softmax'))"
      ],
      "metadata": {
        "id": "zaXqrT6KELqv"
      },
      "execution_count": 3,
      "outputs": []
    },
    {
      "cell_type": "markdown",
      "source": [
        "<h3> Training </h3>"
      ],
      "metadata": {
        "id": "UkgjBjMfZWcx"
      }
    },
    {
      "cell_type": "code",
      "source": [
        "#I decide to use Stochastic Gradient Descendent function to adjust the\n",
        "SGD = tfks.optimizers.SGD\n",
        "\n",
        "model.compile(optimizer=SGD(learning_rate=0.01, momentum = 0.9), loss='sparse_categorical_crossentropy', metrics=['accuracy'])\n",
        "model.fit(x_train, y_train, epochs=3)\n",
        "model.save('pred_write.model')"
      ],
      "metadata": {
        "id": "KEKaHNAXZVA8"
      },
      "execution_count": null,
      "outputs": []
    },
    {
      "cell_type": "code",
      "source": [
        "loss, accuracy = model.evaluate(x_test, y_test)\n",
        "print(loss)\n",
        "print(accuracy)"
      ],
      "metadata": {
        "id": "ATfif22wjn3I"
      },
      "execution_count": null,
      "outputs": []
    },
    {
      "cell_type": "markdown",
      "source": [
        "<h3>Teste</h3>"
      ],
      "metadata": {
        "id": "xGOd0dawJFkF"
      }
    },
    {
      "cell_type": "code",
      "source": [
        "model = tfks.models.load_model('pred_write.model')\n",
        "\n",
        "imgnb = 1\n",
        "\n",
        "if os.path.isfile(f\"dig{imgnb}.png\"):\n",
        "\n",
        "    # The digits are inverted in this image, so it is necessary to use the invert function.\n",
        "    img = cv2.imread(f\"dig{imgnb}.png\")[:,:,0]\n",
        "    img = np.invert(np.array([img]))\n",
        "\n",
        "    prediction = model.predict(img)\n",
        "    print(f'Predict: {np.argmax(prediction)}')\n",
        "\n",
        "    plt.imshow(img[0], cmap=plt.cm.binary)\n",
        "    plt.show()\n",
        "\n",
        "else:\n",
        "    print('Error!')"
      ],
      "metadata": {
        "id": "QoInyaBGkpIU"
      },
      "execution_count": null,
      "outputs": []
    }
  ]
}